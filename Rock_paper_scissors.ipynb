{
 "cells": [
  {
   "cell_type": "code",
   "execution_count": 1,
   "id": "9bc2503c",
   "metadata": {},
   "outputs": [],
   "source": [
    "import random"
   ]
  },
  {
   "cell_type": "code",
   "execution_count": 7,
   "id": "307146e1",
   "metadata": {},
   "outputs": [
    {
     "name": "stdout",
     "output_type": "stream",
     "text": [
      "What's your choice? 'r' for rock, 'p' for paper, 's' for scissors\n",
      "s\n",
      "It's a tie\n"
     ]
    }
   ],
   "source": [
    "def play():\n",
    "    user = input (\"What's your choice? 'r' for rock, 'p' for paper, 's' for scissors\\n\")\n",
    "    computer = random.choice(['r', 'p', 's'])\n",
    "    if user == computer:\n",
    "        return 'It\\'s a tie'\n",
    "    \n",
    "    # r > s, s > p, p > r\n",
    "    if is_win (user, computer): #user>computer because user was written first\n",
    "        return 'You won!'\n",
    "    \n",
    "    return 'You lost!'\n",
    "    \n",
    "\n",
    "    \n",
    "def is_win(player, opponent): #retun true if player wins\n",
    "    # r > s, s > p, p > r\n",
    "    if (player =='r' and opponent == 's') or (player == 's' and opponent =='p')\\\n",
    "    or (player =='p' and opponent == 'r'):\n",
    "        return True\n",
    "    \n",
    "print (play())"
   ]
  },
  {
   "cell_type": "code",
   "execution_count": null,
   "id": "aba4c517",
   "metadata": {},
   "outputs": [],
   "source": []
  },
  {
   "cell_type": "code",
   "execution_count": null,
   "id": "a832f409",
   "metadata": {},
   "outputs": [],
   "source": []
  }
 ],
 "metadata": {
  "kernelspec": {
   "display_name": "Python 3",
   "language": "python",
   "name": "python3"
  },
  "language_info": {
   "codemirror_mode": {
    "name": "ipython",
    "version": 3
   },
   "file_extension": ".py",
   "mimetype": "text/x-python",
   "name": "python",
   "nbconvert_exporter": "python",
   "pygments_lexer": "ipython3",
   "version": "3.9.4"
  }
 },
 "nbformat": 4,
 "nbformat_minor": 5
}
